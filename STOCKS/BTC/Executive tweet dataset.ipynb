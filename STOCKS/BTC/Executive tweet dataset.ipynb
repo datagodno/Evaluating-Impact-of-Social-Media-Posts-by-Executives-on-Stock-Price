{
 "cells": [
  {
   "cell_type": "markdown",
   "metadata": {},
   "source": [
    "# EXECUTIVE TWEETS DATASET"
   ]
  },
  {
   "cell_type": "code",
   "execution_count": 1,
   "metadata": {},
   "outputs": [],
   "source": [
    "import snscrape.modules.twitter as sntwitter\n",
    "import pandas as pd"
   ]
  },
  {
   "cell_type": "code",
   "execution_count": 2,
   "metadata": {},
   "outputs": [
    {
     "data": {
      "text/plain": [
       "'\\nconsumerKey = \"G0ldRNo3bSQlgudLAZqweWwbe\"\\nconsumerSecret = \"dsHyehZUDj25QDndxVdx5pMCkujRlXC7pit66GCBOwRImQbkmI\"\\naccessToken = \"1174271571462164480-TDRo9CWEJSy7M86ugtzAppkxRMfcub\"\\naccessTokenSecret = \"dn949BZmB124khTWTDZuU164HdcJluVMiee07ExBP4YnQ\"\\nbearer_token = \\'AAAAAAAAAAAAAAAAAAAAAEkIcQEAAAAA2cQVx30X%2FPGNwv2nivEMRI2a%2Bdc%3DlnerjSFQAbGSf5g3OHgnsV2zaMZnSdVtgMcQTBPauWb2edQchx\\'\\n\\nauth = tweepy.OAuthHandler(consumerKey, consumerSecret)\\nauth.set_access_token(accessToken, accessTokenSecret)\\napi = tweepy.API(auth,wait_on_rate_limit=True)'"
      ]
     },
     "execution_count": 2,
     "metadata": {},
     "output_type": "execute_result"
    }
   ],
   "source": [
    "# credentials from https://apps.twitter.com/\n",
    "'''\n",
    "consumerKey = \"G0ldRNo3bSQlgudLAZqweWwbe\"\n",
    "consumerSecret = \"dsHyehZUDj25QDndxVdx5pMCkujRlXC7pit66GCBOwRImQbkmI\"\n",
    "accessToken = \"1174271571462164480-TDRo9CWEJSy7M86ugtzAppkxRMfcub\"\n",
    "accessTokenSecret = \"dn949BZmB124khTWTDZuU164HdcJluVMiee07ExBP4YnQ\"\n",
    "bearer_token = 'AAAAAAAAAAAAAAAAAAAAAEkIcQEAAAAA2cQVx30X%2FPGNwv2nivEMRI2a%2Bdc%3DlnerjSFQAbGSf5g3OHgnsV2zaMZnSdVtgMcQTBPauWb2edQchx'\n",
    "\n",
    "auth = tweepy.OAuthHandler(consumerKey, consumerSecret)\n",
    "auth.set_access_token(accessToken, accessTokenSecret)\n",
    "api = tweepy.API(auth,wait_on_rate_limit=True)'''"
   ]
  },
  {
   "cell_type": "code",
   "execution_count": 3,
   "metadata": {
    "scrolled": true
   },
   "outputs": [],
   "source": [
    "import pandas as pd\n",
    "\n",
    "xx = pd.read_csv('NAMES.csv')\n",
    "usernames = xx.NAME.to_list()\n",
    "usernames = list(set(usernames))\n",
    "usernames = sorted(usernames)"
   ]
  },
  {
   "cell_type": "code",
   "execution_count": 4,
   "metadata": {
    "code_folding": []
   },
   "outputs": [
    {
     "name": "stdout",
     "output_type": "stream",
     "text": [
      "122\n"
     ]
    }
   ],
   "source": [
    "tweets = []\n",
    "df = pd.DataFrame(columns=['Date', 'User', 'Tweet'])\n",
    "print(len(usernames))"
   ]
  },
  {
   "cell_type": "code",
   "execution_count": 5,
   "metadata": {},
   "outputs": [
    {
     "name": "stdout",
     "output_type": "stream",
     "text": [
      "['AZ_Value', 'ActAccordingly', 'ActivistShorts', 'AlderLaneeggs', 'AlexRubalcava', 'AureliusValue', 'AustinValue', 'BarbarianCap', 'BergenCapital', 'BluegrassCap', 'CNBC', 'Carl_C_Icahn', 'CitronResearch', 'CopperfieldRscr', 'DavidSchawel', 'DonutShorts', 'DumbLuckCapital', 'EdBorgato', 'EventDrivenMgr', 'FCFYield', 'FatTailCapital', 'Find_Me_Value', 'Fritz844', 'FundyLongShort', 'GlaucusResearch', 'GothamResearch', 'GrantsPub', 'HardcoreValue', 'Hedge_FundGirl', 'HedgeyeENERGY', 'IBDinvestors', 'Iamsamirarora', 'JacobWolinsky', 'Jesse_Livermore', 'JohnHuber72', 'John_Hempton', 'KerrisdaleCap', 'Keubiko', 'LibertyRPF', 'LizAnnSonders', 'LongShortTrader', 'MicroFundy', 'Newsquawk', 'NoonSixCap', 'PainCapital', 'PhilipEtienne', 'PlanMaestro', 'PresciencePoint', 'QTRResearch', 'ReformedBroker', 'RodBoydILM', 'SatoshiLite', 'ScottMinerd', 'ShortSightedCap', 'SkeleCap', 'Stephanie_Link', 'Stocktwits', 'TMTanalyst', 'TheStalwart', 'The_Real_Fly', 'TigreCapital', 'TruthGundlach', 'UnderwaterCap', 'UnionSquareGrp', 'ValueDude', 'VitalikButerin', 'Vivek_Investor', 'WSJ', 'WSJDealJournal', 'WSJMarkets', 'WallStCynic', 'WarrenBuffett', 'activiststocks', 'adoxen', 'afernandez321', 'alphatrends', 'awealthofcs', 'bespokeinvest', 'breakoutStocks', 'business', 'cablecarcapital', 'canuck2usa', 'charliebilello', 'davidein', 'dmuthuk', 'elonmusk', 'firstadopter', 'footnoted', 'fousalerts', 'fundiescapital', 'harmongreg', 'herbgreenberg', 'iancassel', 'jay_21_', 'jvembuna', 'manualofideas', 'maoxian', 'marginalidea', 'mark_dow', 'marketfolly', 'matt_levine', 'mjmauboussin', 'modestproposal1', 'muddywatersre', 'naval', 'nytimesbusiness', 'peterlbrandt', 'pmarca', 'probesreporter', 'racernic', 'ritholtz', 'rohitchauhan', 'schaudenfraud', 'sprucepointcap', 'stt2318', 'the_real_fly', 'traderTVLIVE', 'traderstewie', 'trengriffin', 'valuewalk', 'xuexishenghuo', 'zerohedge']\n"
     ]
    }
   ],
   "source": [
    "print(usernames)"
   ]
  },
  {
   "cell_type": "code",
   "execution_count": 6,
   "metadata": {},
   "outputs": [],
   "source": [
    "def username_tweets_to_csv(username, i):\n",
    "    us = 'bitcoin  \"bitcoin\" (BTC) (from:'+username+') lang:en since:2017-01-01 -filter:links -filter:replies'\n",
    "    global df\n",
    "    for tweet in sntwitter.TwitterSearchScraper(us).get_items():\n",
    "        tweets.append([tweet.date, tweet.user.username, tweet.content])\n",
    "        tweets_df = pd.DataFrame(tweets, columns=['Date', 'User', 'Tweet'])\n",
    "        df = df.append(tweets_df, ignore_index = True )\n",
    "    print(i,'--> '+username+' done! ',df.shape[0])"
   ]
  },
  {
   "cell_type": "code",
   "execution_count": 7,
   "metadata": {
    "scrolled": true
   },
   "outputs": [
    {
     "name": "stdout",
     "output_type": "stream",
     "text": [
      "1 --> AZ_Value done!  0\n",
      "2 --> ActAccordingly done!  0\n",
      "3 --> ActivistShorts done!  0\n",
      "4 --> AlderLaneeggs done!  0\n",
      "5 --> AlexRubalcava done!  0\n",
      "6 --> AureliusValue done!  0\n",
      "7 --> AustinValue done!  0\n",
      "8 --> BarbarianCap done!  1\n",
      "9 --> BergenCapital done!  1\n",
      "10 --> BluegrassCap done!  1\n",
      "11 --> CNBC done!  1\n",
      "12 --> Carl_C_Icahn done!  1\n",
      "13 --> CitronResearch done!  6\n",
      "14 --> CopperfieldRscr done!  6\n",
      "15 --> DavidSchawel done!  6\n",
      "16 --> DonutShorts done!  6\n",
      "17 --> DumbLuckCapital done!  10\n",
      "18 --> EdBorgato done!  21\n",
      "19 --> EventDrivenMgr done!  66\n",
      "20 --> FCFYield done!  78\n",
      "21 --> FatTailCapital done!  78\n",
      "22 --> Find_Me_Value done!  78\n",
      "23 --> Fritz844 done!  78\n",
      "24 --> FundyLongShort done!  78\n",
      "25 --> GlaucusResearch done!  78\n",
      "26 --> GothamResearch done!  78\n",
      "27 --> GrantsPub done!  78\n",
      "28 --> HardcoreValue done!  78\n",
      "29 --> Hedge_FundGirl done!  78\n",
      "30 --> HedgeyeENERGY done!  78\n",
      "31 --> IBDinvestors done!  78\n",
      "32 --> Iamsamirarora done!  78\n",
      "33 --> JacobWolinsky done!  78\n",
      "34 --> Jesse_Livermore done!  91\n",
      "35 --> JohnHuber72 done!  91\n",
      "36 --> John_Hempton done!  105\n",
      "37 --> KerrisdaleCap done!  105\n",
      "38 --> Keubiko done!  171\n",
      "39 --> LibertyRPF done!  171\n",
      "40 --> LizAnnSonders done!  171\n",
      "41 --> LongShortTrader done!  190\n",
      "42 --> MicroFundy done!  190\n",
      "43 --> Newsquawk done!  253\n",
      "44 --> NoonSixCap done!  253\n",
      "45 --> PainCapital done!  253\n",
      "46 --> PhilipEtienne done!  253\n",
      "47 --> PlanMaestro done!  253\n",
      "48 --> PresciencePoint done!  253\n",
      "49 --> QTRResearch done!  435\n",
      "50 --> ReformedBroker done!  435\n",
      "51 --> RodBoydILM done!  435\n",
      "52 --> SatoshiLite done!  703\n",
      "53 --> ScottMinerd done!  703\n",
      "54 --> ShortSightedCap done!  703\n",
      "55 --> SkeleCap done!  703\n",
      "56 --> Stephanie_Link done!  703\n",
      "57 --> Stocktwits done!  741\n",
      "58 --> TMTanalyst done!  741\n",
      "59 --> TheStalwart done!  903\n",
      "60 --> The_Real_Fly done!  2701\n",
      "61 --> TigreCapital done!  2701\n",
      "62 --> TruthGundlach done!  2701\n",
      "63 --> UnderwaterCap done!  2701\n",
      "64 --> UnionSquareGrp done!  3081\n",
      "65 --> ValueDude done!  3081\n",
      "66 --> VitalikButerin done!  3160\n",
      "67 --> Vivek_Investor done!  3160\n",
      "68 --> WSJ done!  3160\n",
      "69 --> WSJDealJournal done!  3160\n",
      "70 --> WSJMarkets done!  3160\n",
      "71 --> WallStCynic done!  3160\n",
      "72 --> WarrenBuffett done!  3160\n",
      "73 --> activiststocks done!  3160\n",
      "74 --> adoxen done!  3160\n",
      "75 --> afernandez321 done!  3160\n",
      "76 --> alphatrends done!  3240\n",
      "77 --> awealthofcs done!  3240\n",
      "78 --> bespokeinvest done!  3570\n",
      "79 --> breakoutStocks done!  3570\n",
      "80 --> business done!  3570\n",
      "81 --> cablecarcapital done!  3570\n",
      "82 --> canuck2usa done!  4851\n",
      "83 --> charliebilello done!  15576\n",
      "84 --> davidein done!  15576\n",
      "85 --> dmuthuk done!  15576\n",
      "86 --> elonmusk done!  15753\n",
      "87 --> firstadopter done!  15753\n",
      "88 --> footnoted done!  15753\n",
      "89 --> fousalerts done!  15753\n",
      "90 --> fundiescapital done!  15931\n",
      "91 --> harmongreg done!  15931\n",
      "92 --> herbgreenberg done!  15931\n",
      "93 --> iancassel done!  15931\n",
      "94 --> jay_21_ done!  15931\n",
      "95 --> jvembuna done!  15931\n",
      "96 --> manualofideas done!  15931\n",
      "97 --> maoxian done!  16110\n",
      "98 --> marginalidea done!  16110\n",
      "99 --> mark_dow done!  37950\n",
      "100 --> marketfolly done!  37950\n",
      "101 --> matt_levine done!  37950\n",
      "102 --> mjmauboussin done!  37950\n",
      "103 --> modestproposal1 done!  38226\n",
      "104 --> muddywatersre done!  38226\n",
      "105 --> naval done!  38226\n",
      "106 --> nytimesbusiness done!  38226\n",
      "107 --> peterlbrandt done!  44253\n",
      "108 --> pmarca done!  44253\n",
      "109 --> probesreporter done!  44850\n",
      "110 --> racernic done!  45150\n",
      "111 --> ritholtz done!  45150\n",
      "112 --> rohitchauhan done!  45150\n",
      "113 --> schaudenfraud done!  45150\n",
      "114 --> sprucepointcap done!  45150\n",
      "115 --> stt2318 done!  45150\n",
      "116 --> the_real_fly done!  54946\n",
      "117 --> traderTVLIVE done!  55278\n",
      "118 --> traderstewie done!  55278\n",
      "119 --> trengriffin done!  55278\n",
      "120 --> valuewalk done!  55611\n",
      "121 --> xuexishenghuo done!  55611\n",
      "122 --> zerohedge done!  56280\n"
     ]
    },
    {
     "data": {
      "text/plain": [
       "(56280, 3)"
      ]
     },
     "execution_count": 7,
     "metadata": {},
     "output_type": "execute_result"
    }
   ],
   "source": [
    "#Input username to scrape tweets and name csv file\n",
    "#Max recent tweets pulls x amount of most recent tweets from that user\n",
    "i = 1\n",
    "# Calling function to turn username's past X amount of tweets into a CSV file\n",
    "for username in usernames:\n",
    "    username_tweets_to_csv(username, i)\n",
    "    i = i+1\n",
    "df.shape"
   ]
  },
  {
   "cell_type": "code",
   "execution_count": 8,
   "metadata": {},
   "outputs": [
    {
     "data": {
      "text/html": [
       "<div>\n",
       "<style scoped>\n",
       "    .dataframe tbody tr th:only-of-type {\n",
       "        vertical-align: middle;\n",
       "    }\n",
       "\n",
       "    .dataframe tbody tr th {\n",
       "        vertical-align: top;\n",
       "    }\n",
       "\n",
       "    .dataframe thead th {\n",
       "        text-align: right;\n",
       "    }\n",
       "</style>\n",
       "<table border=\"1\" class=\"dataframe\">\n",
       "  <thead>\n",
       "    <tr style=\"text-align: right;\">\n",
       "      <th></th>\n",
       "      <th>Date</th>\n",
       "      <th>User</th>\n",
       "      <th>Tweet</th>\n",
       "    </tr>\n",
       "  </thead>\n",
       "  <tbody>\n",
       "    <tr>\n",
       "      <th>0</th>\n",
       "      <td>2020-12-08 03:55:06+00:00</td>\n",
       "      <td>BarbarianCap</td>\n",
       "      <td>Hear me out... a SPAC... ticker BTC... The Bit...</td>\n",
       "    </tr>\n",
       "    <tr>\n",
       "      <th>1</th>\n",
       "      <td>2020-12-08 03:55:06+00:00</td>\n",
       "      <td>BarbarianCap</td>\n",
       "      <td>Hear me out... a SPAC... ticker BTC... The Bit...</td>\n",
       "    </tr>\n",
       "    <tr>\n",
       "      <th>2</th>\n",
       "      <td>2021-04-13 14:38:31+00:00</td>\n",
       "      <td>CitronResearch</td>\n",
       "      <td>No replacement for $BTC.  If $RIOT were to hav...</td>\n",
       "    </tr>\n",
       "    <tr>\n",
       "      <th>3</th>\n",
       "      <td>2020-12-08 03:55:06+00:00</td>\n",
       "      <td>BarbarianCap</td>\n",
       "      <td>Hear me out... a SPAC... ticker BTC... The Bit...</td>\n",
       "    </tr>\n",
       "    <tr>\n",
       "      <th>4</th>\n",
       "      <td>2021-04-13 14:38:31+00:00</td>\n",
       "      <td>CitronResearch</td>\n",
       "      <td>No replacement for $BTC.  If $RIOT were to hav...</td>\n",
       "    </tr>\n",
       "    <tr>\n",
       "      <th>...</th>\n",
       "      <td>...</td>\n",
       "      <td>...</td>\n",
       "      <td>...</td>\n",
       "    </tr>\n",
       "    <tr>\n",
       "      <th>56275</th>\n",
       "      <td>2017-07-19 19:29:12+00:00</td>\n",
       "      <td>The_Real_Fly</td>\n",
       "      <td>So you know, the entirety of the bitcoin/ether...</td>\n",
       "    </tr>\n",
       "    <tr>\n",
       "      <th>56276</th>\n",
       "      <td>2021-05-19 11:49:59+00:00</td>\n",
       "      <td>traderTVLIVE</td>\n",
       "      <td>Are you buying or selling Bitcoin Today? #BTC 🪙</td>\n",
       "    </tr>\n",
       "    <tr>\n",
       "      <th>56277</th>\n",
       "      <td>2021-12-02 19:59:57+00:00</td>\n",
       "      <td>valuewalk</td>\n",
       "      <td>Will gold outperform Bitcoin in 2022? $GLD $BTC</td>\n",
       "    </tr>\n",
       "    <tr>\n",
       "      <th>56278</th>\n",
       "      <td>2021-06-13 18:33:07+00:00</td>\n",
       "      <td>zerohedge</td>\n",
       "      <td>Musk denies speculation Tesla has sold more bi...</td>\n",
       "    </tr>\n",
       "    <tr>\n",
       "      <th>56279</th>\n",
       "      <td>2017-11-10 13:28:45+00:00</td>\n",
       "      <td>zerohedge</td>\n",
       "      <td>Gartman flips on bitcoin: \"good on” those who’...</td>\n",
       "    </tr>\n",
       "  </tbody>\n",
       "</table>\n",
       "<p>56280 rows × 3 columns</p>\n",
       "</div>"
      ],
      "text/plain": [
       "                           Date            User  \\\n",
       "0     2020-12-08 03:55:06+00:00    BarbarianCap   \n",
       "1     2020-12-08 03:55:06+00:00    BarbarianCap   \n",
       "2     2021-04-13 14:38:31+00:00  CitronResearch   \n",
       "3     2020-12-08 03:55:06+00:00    BarbarianCap   \n",
       "4     2021-04-13 14:38:31+00:00  CitronResearch   \n",
       "...                         ...             ...   \n",
       "56275 2017-07-19 19:29:12+00:00    The_Real_Fly   \n",
       "56276 2021-05-19 11:49:59+00:00    traderTVLIVE   \n",
       "56277 2021-12-02 19:59:57+00:00       valuewalk   \n",
       "56278 2021-06-13 18:33:07+00:00       zerohedge   \n",
       "56279 2017-11-10 13:28:45+00:00       zerohedge   \n",
       "\n",
       "                                                   Tweet  \n",
       "0      Hear me out... a SPAC... ticker BTC... The Bit...  \n",
       "1      Hear me out... a SPAC... ticker BTC... The Bit...  \n",
       "2      No replacement for $BTC.  If $RIOT were to hav...  \n",
       "3      Hear me out... a SPAC... ticker BTC... The Bit...  \n",
       "4      No replacement for $BTC.  If $RIOT were to hav...  \n",
       "...                                                  ...  \n",
       "56275  So you know, the entirety of the bitcoin/ether...  \n",
       "56276    Are you buying or selling Bitcoin Today? #BTC 🪙  \n",
       "56277    Will gold outperform Bitcoin in 2022? $GLD $BTC  \n",
       "56278  Musk denies speculation Tesla has sold more bi...  \n",
       "56279  Gartman flips on bitcoin: \"good on” those who’...  \n",
       "\n",
       "[56280 rows x 3 columns]"
      ]
     },
     "execution_count": 8,
     "metadata": {},
     "output_type": "execute_result"
    }
   ],
   "source": [
    "df"
   ]
  },
  {
   "cell_type": "code",
   "execution_count": 9,
   "metadata": {},
   "outputs": [
    {
     "data": {
      "text/html": [
       "<div>\n",
       "<style scoped>\n",
       "    .dataframe tbody tr th:only-of-type {\n",
       "        vertical-align: middle;\n",
       "    }\n",
       "\n",
       "    .dataframe tbody tr th {\n",
       "        vertical-align: top;\n",
       "    }\n",
       "\n",
       "    .dataframe thead th {\n",
       "        text-align: right;\n",
       "    }\n",
       "</style>\n",
       "<table border=\"1\" class=\"dataframe\">\n",
       "  <thead>\n",
       "    <tr style=\"text-align: right;\">\n",
       "      <th></th>\n",
       "      <th>Date</th>\n",
       "      <th>Tweet</th>\n",
       "    </tr>\n",
       "  </thead>\n",
       "  <tbody>\n",
       "    <tr>\n",
       "      <th>0</th>\n",
       "      <td>2020-12-08 03:55:06+00:00</td>\n",
       "      <td>Hear me out... a SPAC... ticker BTC... The Bit...</td>\n",
       "    </tr>\n",
       "    <tr>\n",
       "      <th>2</th>\n",
       "      <td>2021-04-13 14:38:31+00:00</td>\n",
       "      <td>No replacement for $BTC.  If $RIOT were to hav...</td>\n",
       "    </tr>\n",
       "    <tr>\n",
       "      <th>5</th>\n",
       "      <td>2018-04-30 17:53:27+00:00</td>\n",
       "      <td>$SQ Short term tgt $30  started as innovative ...</td>\n",
       "    </tr>\n",
       "    <tr>\n",
       "      <th>9</th>\n",
       "      <td>2021-04-17 19:05:14+00:00</td>\n",
       "      <td>I mean. We all knew $COIN was gonna come out a...</td>\n",
       "    </tr>\n",
       "    <tr>\n",
       "      <th>14</th>\n",
       "      <td>2021-12-04 22:01:47+00:00</td>\n",
       "      <td>Just saw someone touting that the ETH/BTC pair...</td>\n",
       "    </tr>\n",
       "    <tr>\n",
       "      <th>...</th>\n",
       "      <td>...</td>\n",
       "      <td>...</td>\n",
       "    </tr>\n",
       "    <tr>\n",
       "      <th>45149</th>\n",
       "      <td>2019-08-05 21:07:16+00:00</td>\n",
       "      <td>i cant believe am hearing @CNBC expert say 'u ...</td>\n",
       "    </tr>\n",
       "    <tr>\n",
       "      <th>55277</th>\n",
       "      <td>2021-05-19 11:49:59+00:00</td>\n",
       "      <td>Are you buying or selling Bitcoin Today? #BTC 🪙</td>\n",
       "    </tr>\n",
       "    <tr>\n",
       "      <th>55610</th>\n",
       "      <td>2021-12-02 19:59:57+00:00</td>\n",
       "      <td>Will gold outperform Bitcoin in 2022? $GLD $BTC</td>\n",
       "    </tr>\n",
       "    <tr>\n",
       "      <th>55944</th>\n",
       "      <td>2021-06-13 18:33:07+00:00</td>\n",
       "      <td>Musk denies speculation Tesla has sold more bi...</td>\n",
       "    </tr>\n",
       "    <tr>\n",
       "      <th>56279</th>\n",
       "      <td>2017-11-10 13:28:45+00:00</td>\n",
       "      <td>Gartman flips on bitcoin: \"good on” those who’...</td>\n",
       "    </tr>\n",
       "  </tbody>\n",
       "</table>\n",
       "<p>303 rows × 2 columns</p>\n",
       "</div>"
      ],
      "text/plain": [
       "                           Date  \\\n",
       "0     2020-12-08 03:55:06+00:00   \n",
       "2     2021-04-13 14:38:31+00:00   \n",
       "5     2018-04-30 17:53:27+00:00   \n",
       "9     2021-04-17 19:05:14+00:00   \n",
       "14    2021-12-04 22:01:47+00:00   \n",
       "...                         ...   \n",
       "45149 2019-08-05 21:07:16+00:00   \n",
       "55277 2021-05-19 11:49:59+00:00   \n",
       "55610 2021-12-02 19:59:57+00:00   \n",
       "55944 2021-06-13 18:33:07+00:00   \n",
       "56279 2017-11-10 13:28:45+00:00   \n",
       "\n",
       "                                                   Tweet  \n",
       "0      Hear me out... a SPAC... ticker BTC... The Bit...  \n",
       "2      No replacement for $BTC.  If $RIOT were to hav...  \n",
       "5      $SQ Short term tgt $30  started as innovative ...  \n",
       "9      I mean. We all knew $COIN was gonna come out a...  \n",
       "14     Just saw someone touting that the ETH/BTC pair...  \n",
       "...                                                  ...  \n",
       "45149  i cant believe am hearing @CNBC expert say 'u ...  \n",
       "55277    Are you buying or selling Bitcoin Today? #BTC 🪙  \n",
       "55610    Will gold outperform Bitcoin in 2022? $GLD $BTC  \n",
       "55944  Musk denies speculation Tesla has sold more bi...  \n",
       "56279  Gartman flips on bitcoin: \"good on” those who’...  \n",
       "\n",
       "[303 rows x 2 columns]"
      ]
     },
     "execution_count": 9,
     "metadata": {},
     "output_type": "execute_result"
    }
   ],
   "source": [
    "df.drop(['User'], inplace=True, axis=1)\n",
    "df.drop_duplicates(subset =[\"Tweet\"],\n",
    "                     keep = 'first', inplace = True)\n",
    "df"
   ]
  },
  {
   "cell_type": "code",
   "execution_count": 10,
   "metadata": {},
   "outputs": [
    {
     "name": "stdout",
     "output_type": "stream",
     "text": [
      "csv done\n"
     ]
    }
   ],
   "source": [
    "df.to_csv('ExecutiveTweetsBTC.csv', sep=',', index = False)\n",
    "print('csv done')"
   ]
  }
 ],
 "metadata": {
  "interpreter": {
   "hash": "7f8bf9a95ef24a68d1e0b7ad5937bac40752eee0d3315ff8ead0f8ef669f2a95"
  },
  "kernelspec": {
   "display_name": "Python 3 (ipykernel)",
   "language": "python",
   "name": "python3"
  },
  "language_info": {
   "codemirror_mode": {
    "name": "ipython",
    "version": 3
   },
   "file_extension": ".py",
   "mimetype": "text/x-python",
   "name": "python",
   "nbconvert_exporter": "python",
   "pygments_lexer": "ipython3",
   "version": "3.9.7"
  }
 },
 "nbformat": 4,
 "nbformat_minor": 4
}
