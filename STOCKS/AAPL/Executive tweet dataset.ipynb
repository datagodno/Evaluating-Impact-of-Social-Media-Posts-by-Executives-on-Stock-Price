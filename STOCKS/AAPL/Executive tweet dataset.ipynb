{
 "cells": [
  {
   "cell_type": "markdown",
   "metadata": {},
   "source": [
    "# EXECUTIVE TWEETS DATASET"
   ]
  },
  {
   "cell_type": "code",
   "execution_count": 1,
   "metadata": {},
   "outputs": [],
   "source": [
    "import snscrape.modules.twitter as sntwitter\n",
    "import pandas as pd"
   ]
  },
  {
   "cell_type": "code",
   "execution_count": 2,
   "metadata": {},
   "outputs": [
    {
     "data": {
      "text/plain": [
       "'\\nconsumerKey = \"G0ldRNo3bSQlgudLAZqweWwbe\"\\nconsumerSecret = \"dsHyehZUDj25QDndxVdx5pMCkujRlXC7pit66GCBOwRImQbkmI\"\\naccessToken = \"1174271571462164480-TDRo9CWEJSy7M86ugtzAppkxRMfcub\"\\naccessTokenSecret = \"dn949BZmB124khTWTDZuU164HdcJluVMiee07ExBP4YnQ\"\\nbearer_token = \\'AAAAAAAAAAAAAAAAAAAAAEkIcQEAAAAA2cQVx30X%2FPGNwv2nivEMRI2a%2Bdc%3DlnerjSFQAbGSf5g3OHgnsV2zaMZnSdVtgMcQTBPauWb2edQchx\\'\\n\\nauth = tweepy.OAuthHandler(consumerKey, consumerSecret)\\nauth.set_access_token(accessToken, accessTokenSecret)\\napi = tweepy.API(auth,wait_on_rate_limit=True)'"
      ]
     },
     "execution_count": 2,
     "metadata": {},
     "output_type": "execute_result"
    }
   ],
   "source": [
    "# credentials from https://apps.twitter.com/\n",
    "'''\n",
    "consumerKey = \"G0ldRNo3bSQlgudLAZqweWwbe\"\n",
    "consumerSecret = \"dsHyehZUDj25QDndxVdx5pMCkujRlXC7pit66GCBOwRImQbkmI\"\n",
    "accessToken = \"1174271571462164480-TDRo9CWEJSy7M86ugtzAppkxRMfcub\"\n",
    "accessTokenSecret = \"dn949BZmB124khTWTDZuU164HdcJluVMiee07ExBP4YnQ\"\n",
    "bearer_token = 'AAAAAAAAAAAAAAAAAAAAAEkIcQEAAAAA2cQVx30X%2FPGNwv2nivEMRI2a%2Bdc%3DlnerjSFQAbGSf5g3OHgnsV2zaMZnSdVtgMcQTBPauWb2edQchx'\n",
    "\n",
    "auth = tweepy.OAuthHandler(consumerKey, consumerSecret)\n",
    "auth.set_access_token(accessToken, accessTokenSecret)\n",
    "api = tweepy.API(auth,wait_on_rate_limit=True)'''"
   ]
  },
  {
   "cell_type": "code",
   "execution_count": 3,
   "metadata": {
    "scrolled": true
   },
   "outputs": [],
   "source": [
    "import pandas as pd\n",
    "\n",
    "xx = pd.read_csv('NAMES.csv')\n",
    "usernames = xx.NAME.to_list()\n",
    "usernames = list(set(usernames))\n",
    "usernames = sorted(usernames)"
   ]
  },
  {
   "cell_type": "code",
   "execution_count": 4,
   "metadata": {
    "code_folding": []
   },
   "outputs": [
    {
     "name": "stdout",
     "output_type": "stream",
     "text": [
      "122\n"
     ]
    }
   ],
   "source": [
    "tweets = []\n",
    "df = pd.DataFrame(columns=['Date', 'User', 'Tweet'])\n",
    "print(len(usernames))"
   ]
  },
  {
   "cell_type": "code",
   "execution_count": 5,
   "metadata": {},
   "outputs": [
    {
     "name": "stdout",
     "output_type": "stream",
     "text": [
      "['AZ_Value', 'ActAccordingly', 'ActivistShorts', 'AlderLaneeggs', 'AlexRubalcava', 'AureliusValue', 'AustinValue', 'BarbarianCap', 'BergenCapital', 'BluegrassCap', 'CNBC', 'Carl_C_Icahn', 'CitronResearch', 'CopperfieldRscr', 'DavidSchawel', 'DonutShorts', 'DumbLuckCapital', 'EdBorgato', 'EventDrivenMgr', 'FCFYield', 'FatTailCapital', 'Find_Me_Value', 'Fritz844', 'FundyLongShort', 'GlaucusResearch', 'GothamResearch', 'GrantsPub', 'HardcoreValue', 'Hedge_FundGirl', 'HedgeyeENERGY', 'IBDinvestors', 'Iamsamirarora', 'JacobWolinsky', 'Jesse_Livermore', 'JohnHuber72', 'John_Hempton', 'KerrisdaleCap', 'Keubiko', 'LibertyRPF', 'LizAnnSonders', 'LongShortTrader', 'MicroFundy', 'Newsquawk', 'NoonSixCap', 'PainCapital', 'PhilipEtienne', 'PlanMaestro', 'PresciencePoint', 'QTRResearch', 'ReformedBroker', 'RodBoydILM', 'SatoshiLite', 'ScottMinerd', 'ShortSightedCap', 'SkeleCap', 'Stephanie_Link', 'Stocktwits', 'TMTanalyst', 'TheStalwart', 'The_Real_Fly', 'TigreCapital', 'TruthGundlach', 'UnderwaterCap', 'UnionSquareGrp', 'ValueDude', 'VitalikButerin', 'Vivek_Investor', 'WSJ', 'WSJDealJournal', 'WSJMarkets', 'WallStCynic', 'WarrenBuffett', 'activiststocks', 'adoxen', 'afernandez321', 'alphatrends', 'awealthofcs', 'bespokeinvest', 'breakoutStocks', 'business', 'cablecarcapital', 'canuck2usa', 'charliebilello', 'davidein', 'dmuthuk', 'elonmusk', 'firstadopter', 'footnoted', 'fousalerts', 'fundiescapital', 'harmongreg', 'herbgreenberg', 'iancassel', 'jay_21_', 'jvembuna', 'manualofideas', 'maoxian', 'marginalidea', 'mark_dow', 'marketfolly', 'matt_levine', 'mjmauboussin', 'modestproposal1', 'muddywatersre', 'naval', 'nytimesbusiness', 'peterlbrandt', 'pmarca', 'probesreporter', 'racernic', 'ritholtz', 'rohitchauhan', 'schaudenfraud', 'sprucepointcap', 'stt2318', 'the_real_fly', 'traderTVLIVE', 'traderstewie', 'trengriffin', 'valuewalk', 'xuexishenghuo', 'zerohedge']\n"
     ]
    }
   ],
   "source": [
    "print(usernames)"
   ]
  },
  {
   "cell_type": "code",
   "execution_count": 6,
   "metadata": {},
   "outputs": [],
   "source": [
    "def username_tweets_to_csv(username, i):\n",
    "    us = 'Apple  \"AAPL\" (AAPL) (from:'+username+') lang:en since:2017-01-01 -filter:links -filter:replies'\n",
    "    global df\n",
    "    for tweet in sntwitter.TwitterSearchScraper(us).get_items():\n",
    "        tweets.append([tweet.date, tweet.user.username, tweet.content])\n",
    "        tweets_df = pd.DataFrame(tweets, columns=['Date', 'User', 'Tweet'])\n",
    "        df = df.append(tweets_df, ignore_index = True )\n",
    "    print(i,'--> '+username+' done! ',df.shape[0])"
   ]
  },
  {
   "cell_type": "code",
   "execution_count": 7,
   "metadata": {
    "scrolled": true
   },
   "outputs": [
    {
     "name": "stdout",
     "output_type": "stream",
     "text": [
      "1 --> AZ_Value done!  0\n",
      "2 --> ActAccordingly done!  0\n",
      "3 --> ActivistShorts done!  0\n",
      "4 --> AlderLaneeggs done!  0\n",
      "5 --> AlexRubalcava done!  0\n",
      "6 --> AureliusValue done!  0\n",
      "7 --> AustinValue done!  0\n",
      "8 --> BarbarianCap done!  0\n",
      "9 --> BergenCapital done!  0\n",
      "10 --> BluegrassCap done!  1\n",
      "11 --> CNBC done!  1\n",
      "12 --> Carl_C_Icahn done!  1\n",
      "13 --> CitronResearch done!  1\n",
      "14 --> CopperfieldRscr done!  1\n",
      "15 --> DavidSchawel done!  1\n",
      "16 --> DonutShorts done!  1\n",
      "17 --> DumbLuckCapital done!  1\n",
      "18 --> EdBorgato done!  6\n",
      "19 --> EventDrivenMgr done!  6\n",
      "20 --> FCFYield done!  6\n",
      "21 --> FatTailCapital done!  6\n",
      "22 --> Find_Me_Value done!  6\n",
      "23 --> Fritz844 done!  6\n",
      "24 --> FundyLongShort done!  6\n",
      "25 --> GlaucusResearch done!  6\n",
      "26 --> GothamResearch done!  6\n",
      "27 --> GrantsPub done!  6\n",
      "28 --> HardcoreValue done!  6\n",
      "29 --> Hedge_FundGirl done!  6\n",
      "30 --> HedgeyeENERGY done!  6\n",
      "31 --> IBDinvestors done!  10\n",
      "32 --> Iamsamirarora done!  10\n",
      "33 --> JacobWolinsky done!  10\n",
      "34 --> Jesse_Livermore done!  10\n",
      "35 --> JohnHuber72 done!  28\n",
      "36 --> John_Hempton done!  28\n",
      "37 --> KerrisdaleCap done!  28\n",
      "38 --> Keubiko done!  28\n",
      "39 --> LibertyRPF done!  66\n",
      "40 --> LizAnnSonders done!  66\n",
      "41 --> LongShortTrader done!  66\n",
      "42 --> MicroFundy done!  91\n",
      "43 --> Newsquawk done!  528\n",
      "44 --> NoonSixCap done!  528\n",
      "45 --> PainCapital done!  528\n",
      "46 --> PhilipEtienne done!  528\n",
      "47 --> PlanMaestro done!  528\n",
      "48 --> PresciencePoint done!  528\n",
      "49 --> QTRResearch done!  903\n",
      "50 --> ReformedBroker done!  903\n",
      "51 --> RodBoydILM done!  903\n",
      "52 --> SatoshiLite done!  903\n",
      "53 --> ScottMinerd done!  903\n",
      "54 --> ShortSightedCap done!  903\n",
      "55 --> SkeleCap done!  903\n",
      "56 --> Stephanie_Link done!  903\n",
      "57 --> Stocktwits done!  1275\n",
      "58 --> TMTanalyst done!  1275\n",
      "59 --> TheStalwart done!  1275\n",
      "60 --> The_Real_Fly done!  3916\n",
      "61 --> TigreCapital done!  3916\n",
      "62 --> TruthGundlach done!  3916\n",
      "63 --> UnderwaterCap done!  3916\n",
      "64 --> UnionSquareGrp done!  3916\n",
      "65 --> ValueDude done!  3916\n",
      "66 --> VitalikButerin done!  3916\n",
      "67 --> Vivek_Investor done!  3916\n",
      "68 --> WSJ done!  3916\n",
      "69 --> WSJDealJournal done!  3916\n",
      "70 --> WSJMarkets done!  3916\n",
      "71 --> WallStCynic done!  3916\n",
      "72 --> WarrenBuffett done!  3916\n",
      "73 --> activiststocks done!  4005\n",
      "74 --> adoxen done!  4005\n",
      "75 --> afernandez321 done!  4371\n",
      "76 --> alphatrends done!  4371\n",
      "77 --> awealthofcs done!  4371\n",
      "78 --> bespokeinvest done!  10296\n",
      "79 --> breakoutStocks done!  10296\n",
      "80 --> business done!  10296\n",
      "81 --> cablecarcapital done!  10296\n",
      "82 --> canuck2usa done!  11175\n",
      "83 --> charliebilello done!  24753\n",
      "84 --> davidein done!  24753\n",
      "85 --> dmuthuk done!  24753\n",
      "86 --> elonmusk done!  24753\n",
      "87 --> firstadopter done!  27966\n",
      "88 --> footnoted done!  27966\n",
      "89 --> fousalerts done!  27966\n",
      "90 --> fundiescapital done!  27966\n",
      "91 --> harmongreg done!  27966\n",
      "92 --> herbgreenberg done!  27966\n",
      "93 --> iancassel done!  28203\n",
      "94 --> jay_21_ done!  28203\n",
      "95 --> jvembuna done!  28203\n",
      "96 --> manualofideas done!  28441\n",
      "97 --> maoxian done!  29161\n",
      "98 --> marginalidea done!  29161\n",
      "99 --> mark_dow done!  29161\n",
      "100 --> marketfolly done!  29161\n",
      "101 --> matt_levine done!  29161\n",
      "102 --> mjmauboussin done!  29161\n",
      "103 --> modestproposal1 done!  29161\n",
      "104 --> muddywatersre done!  29161\n",
      "105 --> naval done!  29161\n",
      "106 --> nytimesbusiness done!  29161\n",
      "107 --> peterlbrandt done!  29161\n",
      "108 --> pmarca done!  29161\n",
      "109 --> probesreporter done!  29161\n",
      "110 --> racernic done!  29646\n",
      "111 --> ritholtz done!  29890\n",
      "112 --> rohitchauhan done!  29890\n",
      "113 --> schaudenfraud done!  29890\n",
      "114 --> sprucepointcap done!  29890\n",
      "115 --> stt2318 done!  29890\n",
      "116 --> the_real_fly done!  39903\n",
      "117 --> traderTVLIVE done!  40755\n",
      "118 --> traderstewie done!  40755\n",
      "119 --> trengriffin done!  41616\n",
      "120 --> valuewalk done!  41616\n",
      "121 --> xuexishenghuo done!  41616\n",
      "122 --> zerohedge done!  45150\n"
     ]
    },
    {
     "data": {
      "text/plain": [
       "(45150, 3)"
      ]
     },
     "execution_count": 7,
     "metadata": {},
     "output_type": "execute_result"
    }
   ],
   "source": [
    "#Input username to scrape tweets and name csv file\n",
    "#Max recent tweets pulls x amount of most recent tweets from that user\n",
    "i = 1\n",
    "# Calling function to turn username's past X amount of tweets into a CSV file\n",
    "for username in usernames:\n",
    "    username_tweets_to_csv(username, i)\n",
    "    i = i+1\n",
    "df.shape"
   ]
  },
  {
   "cell_type": "code",
   "execution_count": 8,
   "metadata": {},
   "outputs": [
    {
     "data": {
      "text/html": [
       "<div>\n",
       "<style scoped>\n",
       "    .dataframe tbody tr th:only-of-type {\n",
       "        vertical-align: middle;\n",
       "    }\n",
       "\n",
       "    .dataframe tbody tr th {\n",
       "        vertical-align: top;\n",
       "    }\n",
       "\n",
       "    .dataframe thead th {\n",
       "        text-align: right;\n",
       "    }\n",
       "</style>\n",
       "<table border=\"1\" class=\"dataframe\">\n",
       "  <thead>\n",
       "    <tr style=\"text-align: right;\">\n",
       "      <th></th>\n",
       "      <th>Date</th>\n",
       "      <th>User</th>\n",
       "      <th>Tweet</th>\n",
       "    </tr>\n",
       "  </thead>\n",
       "  <tbody>\n",
       "    <tr>\n",
       "      <th>0</th>\n",
       "      <td>2017-06-25 16:41:15+00:00</td>\n",
       "      <td>BluegrassCap</td>\n",
       "      <td>Poll: One week after Apple announces it is acq...</td>\n",
       "    </tr>\n",
       "    <tr>\n",
       "      <th>1</th>\n",
       "      <td>2017-06-25 16:41:15+00:00</td>\n",
       "      <td>BluegrassCap</td>\n",
       "      <td>Poll: One week after Apple announces it is acq...</td>\n",
       "    </tr>\n",
       "    <tr>\n",
       "      <th>2</th>\n",
       "      <td>2020-08-07 18:41:26+00:00</td>\n",
       "      <td>EdBorgato</td>\n",
       "      <td>If only Apple owned $100B worth of Berkshire i...</td>\n",
       "    </tr>\n",
       "    <tr>\n",
       "      <th>3</th>\n",
       "      <td>2017-06-25 16:41:15+00:00</td>\n",
       "      <td>BluegrassCap</td>\n",
       "      <td>Poll: One week after Apple announces it is acq...</td>\n",
       "    </tr>\n",
       "    <tr>\n",
       "      <th>4</th>\n",
       "      <td>2020-08-07 18:41:26+00:00</td>\n",
       "      <td>EdBorgato</td>\n",
       "      <td>If only Apple owned $100B worth of Berkshire i...</td>\n",
       "    </tr>\n",
       "    <tr>\n",
       "      <th>...</th>\n",
       "      <td>...</td>\n",
       "      <td>...</td>\n",
       "      <td>...</td>\n",
       "    </tr>\n",
       "    <tr>\n",
       "      <th>45145</th>\n",
       "      <td>2020-07-30 21:37:48+00:00</td>\n",
       "      <td>zerohedge</td>\n",
       "      <td>Dear @federalreserve AAPL results demonstrated...</td>\n",
       "    </tr>\n",
       "    <tr>\n",
       "      <th>45146</th>\n",
       "      <td>2020-01-27 17:06:30+00:00</td>\n",
       "      <td>zerohedge</td>\n",
       "      <td>Goldman on AAPL: \"we have begun to detect incr...</td>\n",
       "    </tr>\n",
       "    <tr>\n",
       "      <th>45147</th>\n",
       "      <td>2019-11-07 18:18:11+00:00</td>\n",
       "      <td>zerohedge</td>\n",
       "      <td>APPLE SAYS IT WILL ISSUE AN ADDED $2.2B IN GRE...</td>\n",
       "    </tr>\n",
       "    <tr>\n",
       "      <th>45148</th>\n",
       "      <td>2019-03-20 12:42:47+00:00</td>\n",
       "      <td>zerohedge</td>\n",
       "      <td>Apple announces AirPods with Apple-designed H1...</td>\n",
       "    </tr>\n",
       "    <tr>\n",
       "      <th>45149</th>\n",
       "      <td>2018-01-22 01:04:48+00:00</td>\n",
       "      <td>zerohedge</td>\n",
       "      <td>Apple Asks Korean Partners to Cut Part Supplie...</td>\n",
       "    </tr>\n",
       "  </tbody>\n",
       "</table>\n",
       "<p>45150 rows × 3 columns</p>\n",
       "</div>"
      ],
      "text/plain": [
       "                           Date          User  \\\n",
       "0     2017-06-25 16:41:15+00:00  BluegrassCap   \n",
       "1     2017-06-25 16:41:15+00:00  BluegrassCap   \n",
       "2     2020-08-07 18:41:26+00:00     EdBorgato   \n",
       "3     2017-06-25 16:41:15+00:00  BluegrassCap   \n",
       "4     2020-08-07 18:41:26+00:00     EdBorgato   \n",
       "...                         ...           ...   \n",
       "45145 2020-07-30 21:37:48+00:00     zerohedge   \n",
       "45146 2020-01-27 17:06:30+00:00     zerohedge   \n",
       "45147 2019-11-07 18:18:11+00:00     zerohedge   \n",
       "45148 2019-03-20 12:42:47+00:00     zerohedge   \n",
       "45149 2018-01-22 01:04:48+00:00     zerohedge   \n",
       "\n",
       "                                                   Tweet  \n",
       "0      Poll: One week after Apple announces it is acq...  \n",
       "1      Poll: One week after Apple announces it is acq...  \n",
       "2      If only Apple owned $100B worth of Berkshire i...  \n",
       "3      Poll: One week after Apple announces it is acq...  \n",
       "4      If only Apple owned $100B worth of Berkshire i...  \n",
       "...                                                  ...  \n",
       "45145  Dear @federalreserve AAPL results demonstrated...  \n",
       "45146  Goldman on AAPL: \"we have begun to detect incr...  \n",
       "45147  APPLE SAYS IT WILL ISSUE AN ADDED $2.2B IN GRE...  \n",
       "45148  Apple announces AirPods with Apple-designed H1...  \n",
       "45149  Apple Asks Korean Partners to Cut Part Supplie...  \n",
       "\n",
       "[45150 rows x 3 columns]"
      ]
     },
     "execution_count": 8,
     "metadata": {},
     "output_type": "execute_result"
    }
   ],
   "source": [
    "df"
   ]
  },
  {
   "cell_type": "code",
   "execution_count": 9,
   "metadata": {},
   "outputs": [
    {
     "data": {
      "text/html": [
       "<div>\n",
       "<style scoped>\n",
       "    .dataframe tbody tr th:only-of-type {\n",
       "        vertical-align: middle;\n",
       "    }\n",
       "\n",
       "    .dataframe tbody tr th {\n",
       "        vertical-align: top;\n",
       "    }\n",
       "\n",
       "    .dataframe thead th {\n",
       "        text-align: right;\n",
       "    }\n",
       "</style>\n",
       "<table border=\"1\" class=\"dataframe\">\n",
       "  <thead>\n",
       "    <tr style=\"text-align: right;\">\n",
       "      <th></th>\n",
       "      <th>Date</th>\n",
       "      <th>Tweet</th>\n",
       "    </tr>\n",
       "  </thead>\n",
       "  <tbody>\n",
       "    <tr>\n",
       "      <th>0</th>\n",
       "      <td>2017-06-25 16:41:15+00:00</td>\n",
       "      <td>Poll: One week after Apple announces it is acq...</td>\n",
       "    </tr>\n",
       "    <tr>\n",
       "      <th>2</th>\n",
       "      <td>2020-08-07 18:41:26+00:00</td>\n",
       "      <td>If only Apple owned $100B worth of Berkshire i...</td>\n",
       "    </tr>\n",
       "    <tr>\n",
       "      <th>5</th>\n",
       "      <td>2019-11-01 17:36:36+00:00</td>\n",
       "      <td>Berkshire Hathaway's stake in Apple now repres...</td>\n",
       "    </tr>\n",
       "    <tr>\n",
       "      <th>9</th>\n",
       "      <td>2019-12-30 15:37:15+00:00</td>\n",
       "      <td>The #IBDLive Team running through the stock re...</td>\n",
       "    </tr>\n",
       "    <tr>\n",
       "      <th>14</th>\n",
       "      <td>2020-10-30 15:39:01+00:00</td>\n",
       "      <td>75% of Apple Watch sales in the quarter were t...</td>\n",
       "    </tr>\n",
       "    <tr>\n",
       "      <th>...</th>\n",
       "      <td>...</td>\n",
       "      <td>...</td>\n",
       "    </tr>\n",
       "    <tr>\n",
       "      <th>43955</th>\n",
       "      <td>2020-07-30 21:37:48+00:00</td>\n",
       "      <td>Dear @federalreserve AAPL results demonstrated...</td>\n",
       "    </tr>\n",
       "    <tr>\n",
       "      <th>44252</th>\n",
       "      <td>2020-01-27 17:06:30+00:00</td>\n",
       "      <td>Goldman on AAPL: \"we have begun to detect incr...</td>\n",
       "    </tr>\n",
       "    <tr>\n",
       "      <th>44550</th>\n",
       "      <td>2019-11-07 18:18:11+00:00</td>\n",
       "      <td>APPLE SAYS IT WILL ISSUE AN ADDED $2.2B IN GRE...</td>\n",
       "    </tr>\n",
       "    <tr>\n",
       "      <th>44849</th>\n",
       "      <td>2019-03-20 12:42:47+00:00</td>\n",
       "      <td>Apple announces AirPods with Apple-designed H1...</td>\n",
       "    </tr>\n",
       "    <tr>\n",
       "      <th>45149</th>\n",
       "      <td>2018-01-22 01:04:48+00:00</td>\n",
       "      <td>Apple Asks Korean Partners to Cut Part Supplie...</td>\n",
       "    </tr>\n",
       "  </tbody>\n",
       "</table>\n",
       "<p>260 rows × 2 columns</p>\n",
       "</div>"
      ],
      "text/plain": [
       "                           Date  \\\n",
       "0     2017-06-25 16:41:15+00:00   \n",
       "2     2020-08-07 18:41:26+00:00   \n",
       "5     2019-11-01 17:36:36+00:00   \n",
       "9     2019-12-30 15:37:15+00:00   \n",
       "14    2020-10-30 15:39:01+00:00   \n",
       "...                         ...   \n",
       "43955 2020-07-30 21:37:48+00:00   \n",
       "44252 2020-01-27 17:06:30+00:00   \n",
       "44550 2019-11-07 18:18:11+00:00   \n",
       "44849 2019-03-20 12:42:47+00:00   \n",
       "45149 2018-01-22 01:04:48+00:00   \n",
       "\n",
       "                                                   Tweet  \n",
       "0      Poll: One week after Apple announces it is acq...  \n",
       "2      If only Apple owned $100B worth of Berkshire i...  \n",
       "5      Berkshire Hathaway's stake in Apple now repres...  \n",
       "9      The #IBDLive Team running through the stock re...  \n",
       "14     75% of Apple Watch sales in the quarter were t...  \n",
       "...                                                  ...  \n",
       "43955  Dear @federalreserve AAPL results demonstrated...  \n",
       "44252  Goldman on AAPL: \"we have begun to detect incr...  \n",
       "44550  APPLE SAYS IT WILL ISSUE AN ADDED $2.2B IN GRE...  \n",
       "44849  Apple announces AirPods with Apple-designed H1...  \n",
       "45149  Apple Asks Korean Partners to Cut Part Supplie...  \n",
       "\n",
       "[260 rows x 2 columns]"
      ]
     },
     "execution_count": 9,
     "metadata": {},
     "output_type": "execute_result"
    }
   ],
   "source": [
    "df.drop(['User'], inplace=True, axis=1)\n",
    "df.drop_duplicates(subset =[\"Tweet\"],\n",
    "                     keep = 'first', inplace = True)\n",
    "df"
   ]
  },
  {
   "cell_type": "code",
   "execution_count": 10,
   "metadata": {},
   "outputs": [
    {
     "name": "stdout",
     "output_type": "stream",
     "text": [
      "csv done\n"
     ]
    }
   ],
   "source": [
    "df.to_csv('ExecutiveTweetsAAPL.csv', sep=',', index = False)\n",
    "print('csv done')"
   ]
  }
 ],
 "metadata": {
  "interpreter": {
   "hash": "7f8bf9a95ef24a68d1e0b7ad5937bac40752eee0d3315ff8ead0f8ef669f2a95"
  },
  "kernelspec": {
   "display_name": "Python 3 (ipykernel)",
   "language": "python",
   "name": "python3"
  },
  "language_info": {
   "codemirror_mode": {
    "name": "ipython",
    "version": 3
   },
   "file_extension": ".py",
   "mimetype": "text/x-python",
   "name": "python",
   "nbconvert_exporter": "python",
   "pygments_lexer": "ipython3",
   "version": "3.9.7"
  }
 },
 "nbformat": 4,
 "nbformat_minor": 4
}
